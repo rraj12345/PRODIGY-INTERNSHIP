{
 "cells": [
  {
   "cell_type": "markdown",
   "id": "a6942f5f-694b-4810-b3d6-2fb9fa67fda7",
   "metadata": {},
   "source": [
    "<b> Importing Libraries <b>"
   ]
  },
  {
   "cell_type": "code",
   "execution_count": 86,
   "id": "870d1b75-8700-49b7-aa39-b8f56db5c53a",
   "metadata": {},
   "outputs": [],
   "source": [
    "import pandas as pd\n",
    "import numpy as np\n",
    "import seaborn as sns\n",
    "import matplotlib.pyplot as plt"
   ]
  },
  {
   "cell_type": "markdown",
   "id": "2e6bc4d4-f02c-46fb-941c-2033d7ee894f",
   "metadata": {},
   "source": [
    "<b> Uploading Dataset <b>"
   ]
  },
  {
   "cell_type": "code",
   "execution_count": 88,
   "id": "060e325c-292f-4951-8d9c-813daf95ff3d",
   "metadata": {},
   "outputs": [],
   "source": [
    "df =pd.read_csv('US_Accidents_March23.csv')"
   ]
  },
  {
   "cell_type": "markdown",
   "id": "e67c6f6d-433c-4a36-b841-96c9a3fe6e93",
   "metadata": {},
   "source": [
    "<b> Data Cleaning <b>"
   ]
  },
  {
   "cell_type": "code",
   "execution_count": 90,
   "id": "49888bb9-f81b-469d-8074-950ecc3d44a2",
   "metadata": {},
   "outputs": [
    {
     "data": {
      "text/html": [
       "<div>\n",
       "<style scoped>\n",
       "    .dataframe tbody tr th:only-of-type {\n",
       "        vertical-align: middle;\n",
       "    }\n",
       "\n",
       "    .dataframe tbody tr th {\n",
       "        vertical-align: top;\n",
       "    }\n",
       "\n",
       "    .dataframe thead th {\n",
       "        text-align: right;\n",
       "    }\n",
       "</style>\n",
       "<table border=\"1\" class=\"dataframe\">\n",
       "  <thead>\n",
       "    <tr style=\"text-align: right;\">\n",
       "      <th></th>\n",
       "      <th>ID</th>\n",
       "      <th>Source</th>\n",
       "      <th>Severity</th>\n",
       "      <th>Start_Time</th>\n",
       "      <th>End_Time</th>\n",
       "      <th>Start_Lat</th>\n",
       "      <th>Start_Lng</th>\n",
       "      <th>End_Lat</th>\n",
       "      <th>End_Lng</th>\n",
       "      <th>Distance(mi)</th>\n",
       "      <th>...</th>\n",
       "      <th>Roundabout</th>\n",
       "      <th>Station</th>\n",
       "      <th>Stop</th>\n",
       "      <th>Traffic_Calming</th>\n",
       "      <th>Traffic_Signal</th>\n",
       "      <th>Turning_Loop</th>\n",
       "      <th>Sunrise_Sunset</th>\n",
       "      <th>Civil_Twilight</th>\n",
       "      <th>Nautical_Twilight</th>\n",
       "      <th>Astronomical_Twilight</th>\n",
       "    </tr>\n",
       "  </thead>\n",
       "  <tbody>\n",
       "    <tr>\n",
       "      <th>0</th>\n",
       "      <td>A-1</td>\n",
       "      <td>Source2</td>\n",
       "      <td>3</td>\n",
       "      <td>2016-02-08 05:46:00</td>\n",
       "      <td>2016-02-08 11:00:00</td>\n",
       "      <td>39.865147</td>\n",
       "      <td>-84.058723</td>\n",
       "      <td>NaN</td>\n",
       "      <td>NaN</td>\n",
       "      <td>0.01</td>\n",
       "      <td>...</td>\n",
       "      <td>False</td>\n",
       "      <td>False</td>\n",
       "      <td>False</td>\n",
       "      <td>False</td>\n",
       "      <td>False</td>\n",
       "      <td>False</td>\n",
       "      <td>Night</td>\n",
       "      <td>Night</td>\n",
       "      <td>Night</td>\n",
       "      <td>Night</td>\n",
       "    </tr>\n",
       "    <tr>\n",
       "      <th>1</th>\n",
       "      <td>A-2</td>\n",
       "      <td>Source2</td>\n",
       "      <td>2</td>\n",
       "      <td>2016-02-08 06:07:59</td>\n",
       "      <td>2016-02-08 06:37:59</td>\n",
       "      <td>39.928059</td>\n",
       "      <td>-82.831184</td>\n",
       "      <td>NaN</td>\n",
       "      <td>NaN</td>\n",
       "      <td>0.01</td>\n",
       "      <td>...</td>\n",
       "      <td>False</td>\n",
       "      <td>False</td>\n",
       "      <td>False</td>\n",
       "      <td>False</td>\n",
       "      <td>False</td>\n",
       "      <td>False</td>\n",
       "      <td>Night</td>\n",
       "      <td>Night</td>\n",
       "      <td>Night</td>\n",
       "      <td>Day</td>\n",
       "    </tr>\n",
       "    <tr>\n",
       "      <th>2</th>\n",
       "      <td>A-3</td>\n",
       "      <td>Source2</td>\n",
       "      <td>2</td>\n",
       "      <td>2016-02-08 06:49:27</td>\n",
       "      <td>2016-02-08 07:19:27</td>\n",
       "      <td>39.063148</td>\n",
       "      <td>-84.032608</td>\n",
       "      <td>NaN</td>\n",
       "      <td>NaN</td>\n",
       "      <td>0.01</td>\n",
       "      <td>...</td>\n",
       "      <td>False</td>\n",
       "      <td>False</td>\n",
       "      <td>False</td>\n",
       "      <td>False</td>\n",
       "      <td>True</td>\n",
       "      <td>False</td>\n",
       "      <td>Night</td>\n",
       "      <td>Night</td>\n",
       "      <td>Day</td>\n",
       "      <td>Day</td>\n",
       "    </tr>\n",
       "    <tr>\n",
       "      <th>3</th>\n",
       "      <td>A-4</td>\n",
       "      <td>Source2</td>\n",
       "      <td>3</td>\n",
       "      <td>2016-02-08 07:23:34</td>\n",
       "      <td>2016-02-08 07:53:34</td>\n",
       "      <td>39.747753</td>\n",
       "      <td>-84.205582</td>\n",
       "      <td>NaN</td>\n",
       "      <td>NaN</td>\n",
       "      <td>0.01</td>\n",
       "      <td>...</td>\n",
       "      <td>False</td>\n",
       "      <td>False</td>\n",
       "      <td>False</td>\n",
       "      <td>False</td>\n",
       "      <td>False</td>\n",
       "      <td>False</td>\n",
       "      <td>Night</td>\n",
       "      <td>Day</td>\n",
       "      <td>Day</td>\n",
       "      <td>Day</td>\n",
       "    </tr>\n",
       "    <tr>\n",
       "      <th>4</th>\n",
       "      <td>A-5</td>\n",
       "      <td>Source2</td>\n",
       "      <td>2</td>\n",
       "      <td>2016-02-08 07:39:07</td>\n",
       "      <td>2016-02-08 08:09:07</td>\n",
       "      <td>39.627781</td>\n",
       "      <td>-84.188354</td>\n",
       "      <td>NaN</td>\n",
       "      <td>NaN</td>\n",
       "      <td>0.01</td>\n",
       "      <td>...</td>\n",
       "      <td>False</td>\n",
       "      <td>False</td>\n",
       "      <td>False</td>\n",
       "      <td>False</td>\n",
       "      <td>True</td>\n",
       "      <td>False</td>\n",
       "      <td>Day</td>\n",
       "      <td>Day</td>\n",
       "      <td>Day</td>\n",
       "      <td>Day</td>\n",
       "    </tr>\n",
       "  </tbody>\n",
       "</table>\n",
       "<p>5 rows × 46 columns</p>\n",
       "</div>"
      ],
      "text/plain": [
       "    ID   Source  Severity           Start_Time             End_Time  \\\n",
       "0  A-1  Source2         3  2016-02-08 05:46:00  2016-02-08 11:00:00   \n",
       "1  A-2  Source2         2  2016-02-08 06:07:59  2016-02-08 06:37:59   \n",
       "2  A-3  Source2         2  2016-02-08 06:49:27  2016-02-08 07:19:27   \n",
       "3  A-4  Source2         3  2016-02-08 07:23:34  2016-02-08 07:53:34   \n",
       "4  A-5  Source2         2  2016-02-08 07:39:07  2016-02-08 08:09:07   \n",
       "\n",
       "   Start_Lat  Start_Lng  End_Lat  End_Lng  Distance(mi)  ... Roundabout  \\\n",
       "0  39.865147 -84.058723      NaN      NaN          0.01  ...      False   \n",
       "1  39.928059 -82.831184      NaN      NaN          0.01  ...      False   \n",
       "2  39.063148 -84.032608      NaN      NaN          0.01  ...      False   \n",
       "3  39.747753 -84.205582      NaN      NaN          0.01  ...      False   \n",
       "4  39.627781 -84.188354      NaN      NaN          0.01  ...      False   \n",
       "\n",
       "  Station   Stop Traffic_Calming Traffic_Signal Turning_Loop Sunrise_Sunset  \\\n",
       "0   False  False           False          False        False          Night   \n",
       "1   False  False           False          False        False          Night   \n",
       "2   False  False           False           True        False          Night   \n",
       "3   False  False           False          False        False          Night   \n",
       "4   False  False           False           True        False            Day   \n",
       "\n",
       "  Civil_Twilight Nautical_Twilight Astronomical_Twilight  \n",
       "0          Night             Night                 Night  \n",
       "1          Night             Night                   Day  \n",
       "2          Night               Day                   Day  \n",
       "3            Day               Day                   Day  \n",
       "4            Day               Day                   Day  \n",
       "\n",
       "[5 rows x 46 columns]"
      ]
     },
     "execution_count": 90,
     "metadata": {},
     "output_type": "execute_result"
    }
   ],
   "source": [
    "df.head()"
   ]
  },
  {
   "cell_type": "code",
   "execution_count": 91,
   "id": "ad0ee370-2912-4045-8b99-d03b1dddfa96",
   "metadata": {},
   "outputs": [
    {
     "name": "stdout",
     "output_type": "stream",
     "text": [
      "<class 'pandas.core.frame.DataFrame'>\n",
      "RangeIndex: 7728394 entries, 0 to 7728393\n",
      "Data columns (total 46 columns):\n",
      " #   Column                 Dtype  \n",
      "---  ------                 -----  \n",
      " 0   ID                     object \n",
      " 1   Source                 object \n",
      " 2   Severity               int64  \n",
      " 3   Start_Time             object \n",
      " 4   End_Time               object \n",
      " 5   Start_Lat              float64\n",
      " 6   Start_Lng              float64\n",
      " 7   End_Lat                float64\n",
      " 8   End_Lng                float64\n",
      " 9   Distance(mi)           float64\n",
      " 10  Description            object \n",
      " 11  Street                 object \n",
      " 12  City                   object \n",
      " 13  County                 object \n",
      " 14  State                  object \n",
      " 15  Zipcode                object \n",
      " 16  Country                object \n",
      " 17  Timezone               object \n",
      " 18  Airport_Code           object \n",
      " 19  Weather_Timestamp      object \n",
      " 20  Temperature(F)         float64\n",
      " 21  Wind_Chill(F)          float64\n",
      " 22  Humidity(%)            float64\n",
      " 23  Pressure(in)           float64\n",
      " 24  Visibility(mi)         float64\n",
      " 25  Wind_Direction         object \n",
      " 26  Wind_Speed(mph)        float64\n",
      " 27  Precipitation(in)      float64\n",
      " 28  Weather_Condition      object \n",
      " 29  Amenity                bool   \n",
      " 30  Bump                   bool   \n",
      " 31  Crossing               bool   \n",
      " 32  Give_Way               bool   \n",
      " 33  Junction               bool   \n",
      " 34  No_Exit                bool   \n",
      " 35  Railway                bool   \n",
      " 36  Roundabout             bool   \n",
      " 37  Station                bool   \n",
      " 38  Stop                   bool   \n",
      " 39  Traffic_Calming        bool   \n",
      " 40  Traffic_Signal         bool   \n",
      " 41  Turning_Loop           bool   \n",
      " 42  Sunrise_Sunset         object \n",
      " 43  Civil_Twilight         object \n",
      " 44  Nautical_Twilight      object \n",
      " 45  Astronomical_Twilight  object \n",
      "dtypes: bool(13), float64(12), int64(1), object(20)\n",
      "memory usage: 2.0+ GB\n"
     ]
    }
   ],
   "source": [
    "df.info()"
   ]
  },
  {
   "cell_type": "code",
   "execution_count": 92,
   "id": "8d5f01bc-5651-4ad6-a112-9c9922c25f2f",
   "metadata": {},
   "outputs": [
    {
     "data": {
      "text/plain": [
       "(7728394, 46)"
      ]
     },
     "execution_count": 92,
     "metadata": {},
     "output_type": "execute_result"
    }
   ],
   "source": [
    "df.shape"
   ]
  },
  {
   "cell_type": "code",
   "execution_count": 93,
   "id": "c1c6fe3d-da53-4424-bdf1-dd1d284ec81a",
   "metadata": {},
   "outputs": [],
   "source": [
    "df.dropna(inplace = True)"
   ]
  },
  {
   "cell_type": "code",
   "execution_count": 94,
   "id": "d032546f-a054-481e-840c-1278bfebfcb0",
   "metadata": {},
   "outputs": [
    {
     "data": {
      "text/plain": [
       "ID                       0.0\n",
       "Source                   0.0\n",
       "Severity                 0.0\n",
       "Start_Time               0.0\n",
       "End_Time                 0.0\n",
       "Start_Lat                0.0\n",
       "Start_Lng                0.0\n",
       "End_Lat                  0.0\n",
       "End_Lng                  0.0\n",
       "Distance(mi)             0.0\n",
       "Description              0.0\n",
       "Street                   0.0\n",
       "City                     0.0\n",
       "County                   0.0\n",
       "State                    0.0\n",
       "Zipcode                  0.0\n",
       "Country                  0.0\n",
       "Timezone                 0.0\n",
       "Airport_Code             0.0\n",
       "Weather_Timestamp        0.0\n",
       "Temperature(F)           0.0\n",
       "Wind_Chill(F)            0.0\n",
       "Humidity(%)              0.0\n",
       "Pressure(in)             0.0\n",
       "Visibility(mi)           0.0\n",
       "Wind_Direction           0.0\n",
       "Wind_Speed(mph)          0.0\n",
       "Precipitation(in)        0.0\n",
       "Weather_Condition        0.0\n",
       "Amenity                  0.0\n",
       "Bump                     0.0\n",
       "Crossing                 0.0\n",
       "Give_Way                 0.0\n",
       "Junction                 0.0\n",
       "No_Exit                  0.0\n",
       "Railway                  0.0\n",
       "Roundabout               0.0\n",
       "Station                  0.0\n",
       "Stop                     0.0\n",
       "Traffic_Calming          0.0\n",
       "Traffic_Signal           0.0\n",
       "Turning_Loop             0.0\n",
       "Sunrise_Sunset           0.0\n",
       "Civil_Twilight           0.0\n",
       "Nautical_Twilight        0.0\n",
       "Astronomical_Twilight    0.0\n",
       "dtype: float64"
      ]
     },
     "execution_count": 94,
     "metadata": {},
     "output_type": "execute_result"
    }
   ],
   "source": [
    "df.isna().sum()/len(df)*100"
   ]
  },
  {
   "cell_type": "code",
   "execution_count": 95,
   "id": "80bd4933-1477-4408-b876-bef0b35a2836",
   "metadata": {},
   "outputs": [],
   "source": [
    "df.drop(['Description','Zipcode','Weather_Timestamp'],axis=1,inplace=True)"
   ]
  },
  {
   "cell_type": "code",
   "execution_count": 96,
   "id": "129cd1a1-3c74-459b-8433-d8d0b33ae099",
   "metadata": {},
   "outputs": [],
   "source": [
    "df.drop(['Precipitation(in)'],axis =1 , inplace = True) "
   ]
  },
  {
   "cell_type": "code",
   "execution_count": 97,
   "id": "63581731-432e-4010-b412-c02aa21c4ade",
   "metadata": {},
   "outputs": [],
   "source": [
    "df.drop(['Temperature(F)','Wind_Chill(F)','Humidity(%)','Pressure(in)','Visibility(mi)','Wind_Direction', 'Wind_Speed(mph)',\n",
    "                      'Astronomical_Twilight','Nautical_Twilight','Civil_Twilight'], axis = 1, inplace = True)"
   ]
  },
  {
   "cell_type": "code",
   "execution_count": 98,
   "id": "ee07ed69-ddd8-4ceb-a747-1a49294b188b",
   "metadata": {},
   "outputs": [],
   "source": [
    "df.drop(['Start_Lat', 'Start_Lng', 'End_Lat', 'End_Lng'],axis =1 ,inplace= True)"
   ]
  },
  {
   "cell_type": "code",
   "execution_count": 99,
   "id": "b420f52c-e1f9-4cca-adcb-0b5ff9ee39a0",
   "metadata": {},
   "outputs": [],
   "source": [
    "df.drop(['Country','Airport_Code'], axis =1 , inplace = True)"
   ]
  },
  {
   "cell_type": "code",
   "execution_count": 100,
   "id": "0cf58918-b178-4d0d-9762-74073b55cfff",
   "metadata": {},
   "outputs": [
    {
     "data": {
      "text/plain": [
       "(3554549, 26)"
      ]
     },
     "execution_count": 100,
     "metadata": {},
     "output_type": "execute_result"
    }
   ],
   "source": [
    "df.shape"
   ]
  },
  {
   "cell_type": "code",
   "execution_count": 101,
   "id": "1be3d0a7-f324-41ed-ad7c-ebc66c4f6a4b",
   "metadata": {},
   "outputs": [
    {
     "data": {
      "text/plain": [
       "bool       13\n",
       "object     11\n",
       "int64       1\n",
       "float64     1\n",
       "Name: count, dtype: int64"
      ]
     },
     "execution_count": 101,
     "metadata": {},
     "output_type": "execute_result"
    }
   ],
   "source": [
    "df.dtypes.value_counts()"
   ]
  },
  {
   "cell_type": "code",
   "execution_count": 102,
   "id": "05ed0f50-a326-41b3-950b-a335f6a1b316",
   "metadata": {},
   "outputs": [],
   "source": [
    "df.reset_index(drop=True, inplace=True)"
   ]
  },
  {
   "cell_type": "code",
   "execution_count": 103,
   "id": "6fe8fc0d-3782-4079-9f8e-536e2305a563",
   "metadata": {},
   "outputs": [
    {
     "data": {
      "text/html": [
       "<div>\n",
       "<style scoped>\n",
       "    .dataframe tbody tr th:only-of-type {\n",
       "        vertical-align: middle;\n",
       "    }\n",
       "\n",
       "    .dataframe tbody tr th {\n",
       "        vertical-align: top;\n",
       "    }\n",
       "\n",
       "    .dataframe thead th {\n",
       "        text-align: right;\n",
       "    }\n",
       "</style>\n",
       "<table border=\"1\" class=\"dataframe\">\n",
       "  <thead>\n",
       "    <tr style=\"text-align: right;\">\n",
       "      <th></th>\n",
       "      <th>ID</th>\n",
       "      <th>Source</th>\n",
       "      <th>Severity</th>\n",
       "      <th>Start_Time</th>\n",
       "      <th>End_Time</th>\n",
       "      <th>Distance(mi)</th>\n",
       "      <th>Street</th>\n",
       "      <th>City</th>\n",
       "      <th>County</th>\n",
       "      <th>State</th>\n",
       "      <th>...</th>\n",
       "      <th>Junction</th>\n",
       "      <th>No_Exit</th>\n",
       "      <th>Railway</th>\n",
       "      <th>Roundabout</th>\n",
       "      <th>Station</th>\n",
       "      <th>Stop</th>\n",
       "      <th>Traffic_Calming</th>\n",
       "      <th>Traffic_Signal</th>\n",
       "      <th>Turning_Loop</th>\n",
       "      <th>Sunrise_Sunset</th>\n",
       "    </tr>\n",
       "  </thead>\n",
       "  <tbody>\n",
       "    <tr>\n",
       "      <th>0</th>\n",
       "      <td>A-3412645</td>\n",
       "      <td>Source1</td>\n",
       "      <td>3</td>\n",
       "      <td>2016-02-08 00:37:08</td>\n",
       "      <td>2016-02-08 06:37:08</td>\n",
       "      <td>3.230</td>\n",
       "      <td>Outerbelt E</td>\n",
       "      <td>Dublin</td>\n",
       "      <td>Franklin</td>\n",
       "      <td>OH</td>\n",
       "      <td>...</td>\n",
       "      <td>False</td>\n",
       "      <td>False</td>\n",
       "      <td>False</td>\n",
       "      <td>False</td>\n",
       "      <td>False</td>\n",
       "      <td>False</td>\n",
       "      <td>False</td>\n",
       "      <td>False</td>\n",
       "      <td>False</td>\n",
       "      <td>Night</td>\n",
       "    </tr>\n",
       "    <tr>\n",
       "      <th>1</th>\n",
       "      <td>A-3412650</td>\n",
       "      <td>Source1</td>\n",
       "      <td>3</td>\n",
       "      <td>2016-02-08 07:53:43</td>\n",
       "      <td>2016-02-08 13:53:43</td>\n",
       "      <td>0.500</td>\n",
       "      <td>I-75 S</td>\n",
       "      <td>Cincinnati</td>\n",
       "      <td>Hamilton</td>\n",
       "      <td>OH</td>\n",
       "      <td>...</td>\n",
       "      <td>False</td>\n",
       "      <td>False</td>\n",
       "      <td>False</td>\n",
       "      <td>False</td>\n",
       "      <td>False</td>\n",
       "      <td>False</td>\n",
       "      <td>False</td>\n",
       "      <td>False</td>\n",
       "      <td>False</td>\n",
       "      <td>Day</td>\n",
       "    </tr>\n",
       "    <tr>\n",
       "      <th>2</th>\n",
       "      <td>A-3412654</td>\n",
       "      <td>Source1</td>\n",
       "      <td>2</td>\n",
       "      <td>2016-02-08 11:51:46</td>\n",
       "      <td>2016-02-08 17:51:46</td>\n",
       "      <td>0.521</td>\n",
       "      <td>I-71 S</td>\n",
       "      <td>Cleveland</td>\n",
       "      <td>Cuyahoga</td>\n",
       "      <td>OH</td>\n",
       "      <td>...</td>\n",
       "      <td>True</td>\n",
       "      <td>False</td>\n",
       "      <td>False</td>\n",
       "      <td>False</td>\n",
       "      <td>False</td>\n",
       "      <td>False</td>\n",
       "      <td>False</td>\n",
       "      <td>False</td>\n",
       "      <td>False</td>\n",
       "      <td>Day</td>\n",
       "    </tr>\n",
       "    <tr>\n",
       "      <th>3</th>\n",
       "      <td>A-3412656</td>\n",
       "      <td>Source1</td>\n",
       "      <td>2</td>\n",
       "      <td>2016-02-08 15:16:43</td>\n",
       "      <td>2016-02-08 21:16:43</td>\n",
       "      <td>0.826</td>\n",
       "      <td>Outerbelt W</td>\n",
       "      <td>Westerville</td>\n",
       "      <td>Franklin</td>\n",
       "      <td>OH</td>\n",
       "      <td>...</td>\n",
       "      <td>False</td>\n",
       "      <td>False</td>\n",
       "      <td>False</td>\n",
       "      <td>False</td>\n",
       "      <td>False</td>\n",
       "      <td>False</td>\n",
       "      <td>False</td>\n",
       "      <td>False</td>\n",
       "      <td>False</td>\n",
       "      <td>Day</td>\n",
       "    </tr>\n",
       "    <tr>\n",
       "      <th>4</th>\n",
       "      <td>A-3412657</td>\n",
       "      <td>Source1</td>\n",
       "      <td>2</td>\n",
       "      <td>2016-02-08 15:43:50</td>\n",
       "      <td>2016-02-08 21:43:50</td>\n",
       "      <td>0.307</td>\n",
       "      <td>I-75 N</td>\n",
       "      <td>Cincinnati</td>\n",
       "      <td>Hamilton</td>\n",
       "      <td>OH</td>\n",
       "      <td>...</td>\n",
       "      <td>False</td>\n",
       "      <td>False</td>\n",
       "      <td>False</td>\n",
       "      <td>False</td>\n",
       "      <td>False</td>\n",
       "      <td>False</td>\n",
       "      <td>False</td>\n",
       "      <td>False</td>\n",
       "      <td>False</td>\n",
       "      <td>Day</td>\n",
       "    </tr>\n",
       "    <tr>\n",
       "      <th>...</th>\n",
       "      <td>...</td>\n",
       "      <td>...</td>\n",
       "      <td>...</td>\n",
       "      <td>...</td>\n",
       "      <td>...</td>\n",
       "      <td>...</td>\n",
       "      <td>...</td>\n",
       "      <td>...</td>\n",
       "      <td>...</td>\n",
       "      <td>...</td>\n",
       "      <td>...</td>\n",
       "      <td>...</td>\n",
       "      <td>...</td>\n",
       "      <td>...</td>\n",
       "      <td>...</td>\n",
       "      <td>...</td>\n",
       "      <td>...</td>\n",
       "      <td>...</td>\n",
       "      <td>...</td>\n",
       "      <td>...</td>\n",
       "      <td>...</td>\n",
       "    </tr>\n",
       "    <tr>\n",
       "      <th>3554544</th>\n",
       "      <td>A-7777757</td>\n",
       "      <td>Source1</td>\n",
       "      <td>2</td>\n",
       "      <td>2019-08-23 18:03:25</td>\n",
       "      <td>2019-08-23 18:32:01</td>\n",
       "      <td>0.543</td>\n",
       "      <td>Pomona Fwy E</td>\n",
       "      <td>Riverside</td>\n",
       "      <td>Riverside</td>\n",
       "      <td>CA</td>\n",
       "      <td>...</td>\n",
       "      <td>False</td>\n",
       "      <td>False</td>\n",
       "      <td>False</td>\n",
       "      <td>False</td>\n",
       "      <td>False</td>\n",
       "      <td>False</td>\n",
       "      <td>False</td>\n",
       "      <td>False</td>\n",
       "      <td>False</td>\n",
       "      <td>Day</td>\n",
       "    </tr>\n",
       "    <tr>\n",
       "      <th>3554545</th>\n",
       "      <td>A-7777758</td>\n",
       "      <td>Source1</td>\n",
       "      <td>2</td>\n",
       "      <td>2019-08-23 19:11:30</td>\n",
       "      <td>2019-08-23 19:38:23</td>\n",
       "      <td>0.338</td>\n",
       "      <td>I-8 W</td>\n",
       "      <td>San Diego</td>\n",
       "      <td>San Diego</td>\n",
       "      <td>CA</td>\n",
       "      <td>...</td>\n",
       "      <td>False</td>\n",
       "      <td>False</td>\n",
       "      <td>False</td>\n",
       "      <td>False</td>\n",
       "      <td>False</td>\n",
       "      <td>False</td>\n",
       "      <td>False</td>\n",
       "      <td>False</td>\n",
       "      <td>False</td>\n",
       "      <td>Day</td>\n",
       "    </tr>\n",
       "    <tr>\n",
       "      <th>3554546</th>\n",
       "      <td>A-7777759</td>\n",
       "      <td>Source1</td>\n",
       "      <td>2</td>\n",
       "      <td>2019-08-23 19:00:21</td>\n",
       "      <td>2019-08-23 19:28:49</td>\n",
       "      <td>0.561</td>\n",
       "      <td>Garden Grove Fwy</td>\n",
       "      <td>Orange</td>\n",
       "      <td>Orange</td>\n",
       "      <td>CA</td>\n",
       "      <td>...</td>\n",
       "      <td>True</td>\n",
       "      <td>False</td>\n",
       "      <td>False</td>\n",
       "      <td>False</td>\n",
       "      <td>False</td>\n",
       "      <td>False</td>\n",
       "      <td>False</td>\n",
       "      <td>False</td>\n",
       "      <td>False</td>\n",
       "      <td>Day</td>\n",
       "    </tr>\n",
       "    <tr>\n",
       "      <th>3554547</th>\n",
       "      <td>A-7777760</td>\n",
       "      <td>Source1</td>\n",
       "      <td>2</td>\n",
       "      <td>2019-08-23 19:00:21</td>\n",
       "      <td>2019-08-23 19:29:42</td>\n",
       "      <td>0.772</td>\n",
       "      <td>San Diego Fwy S</td>\n",
       "      <td>Culver City</td>\n",
       "      <td>Los Angeles</td>\n",
       "      <td>CA</td>\n",
       "      <td>...</td>\n",
       "      <td>False</td>\n",
       "      <td>False</td>\n",
       "      <td>False</td>\n",
       "      <td>False</td>\n",
       "      <td>False</td>\n",
       "      <td>False</td>\n",
       "      <td>False</td>\n",
       "      <td>False</td>\n",
       "      <td>False</td>\n",
       "      <td>Day</td>\n",
       "    </tr>\n",
       "    <tr>\n",
       "      <th>3554548</th>\n",
       "      <td>A-7777761</td>\n",
       "      <td>Source1</td>\n",
       "      <td>2</td>\n",
       "      <td>2019-08-23 18:52:06</td>\n",
       "      <td>2019-08-23 19:21:31</td>\n",
       "      <td>0.537</td>\n",
       "      <td>CA-210 W</td>\n",
       "      <td>Highland</td>\n",
       "      <td>San Bernardino</td>\n",
       "      <td>CA</td>\n",
       "      <td>...</td>\n",
       "      <td>False</td>\n",
       "      <td>False</td>\n",
       "      <td>False</td>\n",
       "      <td>False</td>\n",
       "      <td>False</td>\n",
       "      <td>False</td>\n",
       "      <td>False</td>\n",
       "      <td>False</td>\n",
       "      <td>False</td>\n",
       "      <td>Day</td>\n",
       "    </tr>\n",
       "  </tbody>\n",
       "</table>\n",
       "<p>3554549 rows × 26 columns</p>\n",
       "</div>"
      ],
      "text/plain": [
       "                ID   Source  Severity           Start_Time  \\\n",
       "0        A-3412645  Source1         3  2016-02-08 00:37:08   \n",
       "1        A-3412650  Source1         3  2016-02-08 07:53:43   \n",
       "2        A-3412654  Source1         2  2016-02-08 11:51:46   \n",
       "3        A-3412656  Source1         2  2016-02-08 15:16:43   \n",
       "4        A-3412657  Source1         2  2016-02-08 15:43:50   \n",
       "...            ...      ...       ...                  ...   \n",
       "3554544  A-7777757  Source1         2  2019-08-23 18:03:25   \n",
       "3554545  A-7777758  Source1         2  2019-08-23 19:11:30   \n",
       "3554546  A-7777759  Source1         2  2019-08-23 19:00:21   \n",
       "3554547  A-7777760  Source1         2  2019-08-23 19:00:21   \n",
       "3554548  A-7777761  Source1         2  2019-08-23 18:52:06   \n",
       "\n",
       "                    End_Time  Distance(mi)            Street         City  \\\n",
       "0        2016-02-08 06:37:08         3.230       Outerbelt E       Dublin   \n",
       "1        2016-02-08 13:53:43         0.500            I-75 S   Cincinnati   \n",
       "2        2016-02-08 17:51:46         0.521            I-71 S    Cleveland   \n",
       "3        2016-02-08 21:16:43         0.826       Outerbelt W  Westerville   \n",
       "4        2016-02-08 21:43:50         0.307            I-75 N   Cincinnati   \n",
       "...                      ...           ...               ...          ...   \n",
       "3554544  2019-08-23 18:32:01         0.543      Pomona Fwy E    Riverside   \n",
       "3554545  2019-08-23 19:38:23         0.338             I-8 W    San Diego   \n",
       "3554546  2019-08-23 19:28:49         0.561  Garden Grove Fwy       Orange   \n",
       "3554547  2019-08-23 19:29:42         0.772   San Diego Fwy S  Culver City   \n",
       "3554548  2019-08-23 19:21:31         0.537          CA-210 W     Highland   \n",
       "\n",
       "                 County State  ... Junction No_Exit  Railway  Roundabout  \\\n",
       "0              Franklin    OH  ...    False   False    False       False   \n",
       "1              Hamilton    OH  ...    False   False    False       False   \n",
       "2              Cuyahoga    OH  ...     True   False    False       False   \n",
       "3              Franklin    OH  ...    False   False    False       False   \n",
       "4              Hamilton    OH  ...    False   False    False       False   \n",
       "...                 ...   ...  ...      ...     ...      ...         ...   \n",
       "3554544       Riverside    CA  ...    False   False    False       False   \n",
       "3554545       San Diego    CA  ...    False   False    False       False   \n",
       "3554546          Orange    CA  ...     True   False    False       False   \n",
       "3554547     Los Angeles    CA  ...    False   False    False       False   \n",
       "3554548  San Bernardino    CA  ...    False   False    False       False   \n",
       "\n",
       "         Station   Stop  Traffic_Calming  Traffic_Signal  Turning_Loop  \\\n",
       "0          False  False            False           False         False   \n",
       "1          False  False            False           False         False   \n",
       "2          False  False            False           False         False   \n",
       "3          False  False            False           False         False   \n",
       "4          False  False            False           False         False   \n",
       "...          ...    ...              ...             ...           ...   \n",
       "3554544    False  False            False           False         False   \n",
       "3554545    False  False            False           False         False   \n",
       "3554546    False  False            False           False         False   \n",
       "3554547    False  False            False           False         False   \n",
       "3554548    False  False            False           False         False   \n",
       "\n",
       "         Sunrise_Sunset  \n",
       "0                 Night  \n",
       "1                   Day  \n",
       "2                   Day  \n",
       "3                   Day  \n",
       "4                   Day  \n",
       "...                 ...  \n",
       "3554544             Day  \n",
       "3554545             Day  \n",
       "3554546             Day  \n",
       "3554547             Day  \n",
       "3554548             Day  \n",
       "\n",
       "[3554549 rows x 26 columns]"
      ]
     },
     "execution_count": 103,
     "metadata": {},
     "output_type": "execute_result"
    }
   ],
   "source": [
    "df"
   ]
  },
  {
   "cell_type": "markdown",
   "id": "34238809-933f-4a18-9a56-1a5fe1caf24e",
   "metadata": {},
   "source": [
    "<b> Feature Engineering <b>"
   ]
  },
  {
   "cell_type": "code",
   "execution_count": 105,
   "id": "2d5f778d-41cf-48e1-811a-773fa0714606",
   "metadata": {},
   "outputs": [],
   "source": [
    "df['Start_Time'] = pd.to_datetime(df['Start_Time'], format='mixed')"
   ]
  },
  {
   "cell_type": "code",
   "execution_count": 106,
   "id": "e4778d13-eec3-4c0a-a020-c7845095806d",
   "metadata": {},
   "outputs": [],
   "source": [
    "df['Year'] = df['Start_Time'].dt.year\n",
    "df['Month'] = df['Start_Time'].dt.month\n",
    "df['Day'] = df['Start_Time'].dt.day"
   ]
  },
  {
   "cell_type": "code",
   "execution_count": 107,
   "id": "ab28a556-6bf4-48aa-8bcb-86a7e2a31be5",
   "metadata": {},
   "outputs": [
    {
     "data": {
      "text/plain": [
       "array([2016, 2017, 2023, 2021, 2022, 2020, 2018, 2019])"
      ]
     },
     "execution_count": 107,
     "metadata": {},
     "output_type": "execute_result"
    }
   ],
   "source": [
    "df['Year'].unique()"
   ]
  },
  {
   "cell_type": "code",
   "execution_count": 108,
   "id": "b5836434-879f-4ea6-b7cb-81c82f8dd5b7",
   "metadata": {},
   "outputs": [
    {
     "data": {
      "text/plain": [
       "array([ 2,  3,  4,  5,  6, 11, 12,  1, 10,  9,  8,  7])"
      ]
     },
     "execution_count": 108,
     "metadata": {},
     "output_type": "execute_result"
    }
   ],
   "source": [
    "df['Month'].unique()"
   ]
  },
  {
   "cell_type": "code",
   "execution_count": 109,
   "id": "544fab4f-57e3-4951-8a92-319d42b9fefd",
   "metadata": {},
   "outputs": [
    {
     "data": {
      "text/plain": [
       "array([ 8,  9, 10, 11, 12, 13, 14, 15, 16, 17, 24, 25,  1,  2,  3,  4,  5,\n",
       "       22, 18, 20,  6, 23, 28, 29, 30, 31,  7, 19, 26, 27, 21])"
      ]
     },
     "execution_count": 109,
     "metadata": {},
     "output_type": "execute_result"
    }
   ],
   "source": [
    "df['Day'].unique()"
   ]
  },
  {
   "cell_type": "code",
   "execution_count": 110,
   "id": "3f446428-5448-4ed5-83bd-f2c6ab46a5f2",
   "metadata": {},
   "outputs": [],
   "source": [
    "df.drop(['Start_Time','End_Time'],axis =1 , inplace = True) "
   ]
  },
  {
   "cell_type": "code",
   "execution_count": 111,
   "id": "a836bd5c-d9e6-4d17-9b60-8c747f4c8222",
   "metadata": {},
   "outputs": [
    {
     "data": {
      "text/html": [
       "<div>\n",
       "<style scoped>\n",
       "    .dataframe tbody tr th:only-of-type {\n",
       "        vertical-align: middle;\n",
       "    }\n",
       "\n",
       "    .dataframe tbody tr th {\n",
       "        vertical-align: top;\n",
       "    }\n",
       "\n",
       "    .dataframe thead th {\n",
       "        text-align: right;\n",
       "    }\n",
       "</style>\n",
       "<table border=\"1\" class=\"dataframe\">\n",
       "  <thead>\n",
       "    <tr style=\"text-align: right;\">\n",
       "      <th></th>\n",
       "      <th>ID</th>\n",
       "      <th>Source</th>\n",
       "      <th>Severity</th>\n",
       "      <th>Distance(mi)</th>\n",
       "      <th>Street</th>\n",
       "      <th>City</th>\n",
       "      <th>County</th>\n",
       "      <th>State</th>\n",
       "      <th>Timezone</th>\n",
       "      <th>Weather_Condition</th>\n",
       "      <th>...</th>\n",
       "      <th>Roundabout</th>\n",
       "      <th>Station</th>\n",
       "      <th>Stop</th>\n",
       "      <th>Traffic_Calming</th>\n",
       "      <th>Traffic_Signal</th>\n",
       "      <th>Turning_Loop</th>\n",
       "      <th>Sunrise_Sunset</th>\n",
       "      <th>Year</th>\n",
       "      <th>Month</th>\n",
       "      <th>Day</th>\n",
       "    </tr>\n",
       "  </thead>\n",
       "  <tbody>\n",
       "    <tr>\n",
       "      <th>0</th>\n",
       "      <td>A-3412645</td>\n",
       "      <td>Source1</td>\n",
       "      <td>3</td>\n",
       "      <td>3.230</td>\n",
       "      <td>Outerbelt E</td>\n",
       "      <td>Dublin</td>\n",
       "      <td>Franklin</td>\n",
       "      <td>OH</td>\n",
       "      <td>US/Eastern</td>\n",
       "      <td>Light Rain</td>\n",
       "      <td>...</td>\n",
       "      <td>False</td>\n",
       "      <td>False</td>\n",
       "      <td>False</td>\n",
       "      <td>False</td>\n",
       "      <td>False</td>\n",
       "      <td>False</td>\n",
       "      <td>Night</td>\n",
       "      <td>2016</td>\n",
       "      <td>2</td>\n",
       "      <td>8</td>\n",
       "    </tr>\n",
       "    <tr>\n",
       "      <th>1</th>\n",
       "      <td>A-3412650</td>\n",
       "      <td>Source1</td>\n",
       "      <td>3</td>\n",
       "      <td>0.500</td>\n",
       "      <td>I-75 S</td>\n",
       "      <td>Cincinnati</td>\n",
       "      <td>Hamilton</td>\n",
       "      <td>OH</td>\n",
       "      <td>US/Eastern</td>\n",
       "      <td>Light Rain</td>\n",
       "      <td>...</td>\n",
       "      <td>False</td>\n",
       "      <td>False</td>\n",
       "      <td>False</td>\n",
       "      <td>False</td>\n",
       "      <td>False</td>\n",
       "      <td>False</td>\n",
       "      <td>Day</td>\n",
       "      <td>2016</td>\n",
       "      <td>2</td>\n",
       "      <td>8</td>\n",
       "    </tr>\n",
       "    <tr>\n",
       "      <th>2</th>\n",
       "      <td>A-3412654</td>\n",
       "      <td>Source1</td>\n",
       "      <td>2</td>\n",
       "      <td>0.521</td>\n",
       "      <td>I-71 S</td>\n",
       "      <td>Cleveland</td>\n",
       "      <td>Cuyahoga</td>\n",
       "      <td>OH</td>\n",
       "      <td>US/Eastern</td>\n",
       "      <td>Snow</td>\n",
       "      <td>...</td>\n",
       "      <td>False</td>\n",
       "      <td>False</td>\n",
       "      <td>False</td>\n",
       "      <td>False</td>\n",
       "      <td>False</td>\n",
       "      <td>False</td>\n",
       "      <td>Day</td>\n",
       "      <td>2016</td>\n",
       "      <td>2</td>\n",
       "      <td>8</td>\n",
       "    </tr>\n",
       "    <tr>\n",
       "      <th>3</th>\n",
       "      <td>A-3412656</td>\n",
       "      <td>Source1</td>\n",
       "      <td>2</td>\n",
       "      <td>0.826</td>\n",
       "      <td>Outerbelt W</td>\n",
       "      <td>Westerville</td>\n",
       "      <td>Franklin</td>\n",
       "      <td>OH</td>\n",
       "      <td>US/Eastern</td>\n",
       "      <td>Snow</td>\n",
       "      <td>...</td>\n",
       "      <td>False</td>\n",
       "      <td>False</td>\n",
       "      <td>False</td>\n",
       "      <td>False</td>\n",
       "      <td>False</td>\n",
       "      <td>False</td>\n",
       "      <td>Day</td>\n",
       "      <td>2016</td>\n",
       "      <td>2</td>\n",
       "      <td>8</td>\n",
       "    </tr>\n",
       "    <tr>\n",
       "      <th>4</th>\n",
       "      <td>A-3412657</td>\n",
       "      <td>Source1</td>\n",
       "      <td>2</td>\n",
       "      <td>0.307</td>\n",
       "      <td>I-75 N</td>\n",
       "      <td>Cincinnati</td>\n",
       "      <td>Hamilton</td>\n",
       "      <td>OH</td>\n",
       "      <td>US/Eastern</td>\n",
       "      <td>Light Snow</td>\n",
       "      <td>...</td>\n",
       "      <td>False</td>\n",
       "      <td>False</td>\n",
       "      <td>False</td>\n",
       "      <td>False</td>\n",
       "      <td>False</td>\n",
       "      <td>False</td>\n",
       "      <td>Day</td>\n",
       "      <td>2016</td>\n",
       "      <td>2</td>\n",
       "      <td>8</td>\n",
       "    </tr>\n",
       "    <tr>\n",
       "      <th>...</th>\n",
       "      <td>...</td>\n",
       "      <td>...</td>\n",
       "      <td>...</td>\n",
       "      <td>...</td>\n",
       "      <td>...</td>\n",
       "      <td>...</td>\n",
       "      <td>...</td>\n",
       "      <td>...</td>\n",
       "      <td>...</td>\n",
       "      <td>...</td>\n",
       "      <td>...</td>\n",
       "      <td>...</td>\n",
       "      <td>...</td>\n",
       "      <td>...</td>\n",
       "      <td>...</td>\n",
       "      <td>...</td>\n",
       "      <td>...</td>\n",
       "      <td>...</td>\n",
       "      <td>...</td>\n",
       "      <td>...</td>\n",
       "      <td>...</td>\n",
       "    </tr>\n",
       "    <tr>\n",
       "      <th>3554544</th>\n",
       "      <td>A-7777757</td>\n",
       "      <td>Source1</td>\n",
       "      <td>2</td>\n",
       "      <td>0.543</td>\n",
       "      <td>Pomona Fwy E</td>\n",
       "      <td>Riverside</td>\n",
       "      <td>Riverside</td>\n",
       "      <td>CA</td>\n",
       "      <td>US/Pacific</td>\n",
       "      <td>Fair</td>\n",
       "      <td>...</td>\n",
       "      <td>False</td>\n",
       "      <td>False</td>\n",
       "      <td>False</td>\n",
       "      <td>False</td>\n",
       "      <td>False</td>\n",
       "      <td>False</td>\n",
       "      <td>Day</td>\n",
       "      <td>2019</td>\n",
       "      <td>8</td>\n",
       "      <td>23</td>\n",
       "    </tr>\n",
       "    <tr>\n",
       "      <th>3554545</th>\n",
       "      <td>A-7777758</td>\n",
       "      <td>Source1</td>\n",
       "      <td>2</td>\n",
       "      <td>0.338</td>\n",
       "      <td>I-8 W</td>\n",
       "      <td>San Diego</td>\n",
       "      <td>San Diego</td>\n",
       "      <td>CA</td>\n",
       "      <td>US/Pacific</td>\n",
       "      <td>Fair</td>\n",
       "      <td>...</td>\n",
       "      <td>False</td>\n",
       "      <td>False</td>\n",
       "      <td>False</td>\n",
       "      <td>False</td>\n",
       "      <td>False</td>\n",
       "      <td>False</td>\n",
       "      <td>Day</td>\n",
       "      <td>2019</td>\n",
       "      <td>8</td>\n",
       "      <td>23</td>\n",
       "    </tr>\n",
       "    <tr>\n",
       "      <th>3554546</th>\n",
       "      <td>A-7777759</td>\n",
       "      <td>Source1</td>\n",
       "      <td>2</td>\n",
       "      <td>0.561</td>\n",
       "      <td>Garden Grove Fwy</td>\n",
       "      <td>Orange</td>\n",
       "      <td>Orange</td>\n",
       "      <td>CA</td>\n",
       "      <td>US/Pacific</td>\n",
       "      <td>Partly Cloudy</td>\n",
       "      <td>...</td>\n",
       "      <td>False</td>\n",
       "      <td>False</td>\n",
       "      <td>False</td>\n",
       "      <td>False</td>\n",
       "      <td>False</td>\n",
       "      <td>False</td>\n",
       "      <td>Day</td>\n",
       "      <td>2019</td>\n",
       "      <td>8</td>\n",
       "      <td>23</td>\n",
       "    </tr>\n",
       "    <tr>\n",
       "      <th>3554547</th>\n",
       "      <td>A-7777760</td>\n",
       "      <td>Source1</td>\n",
       "      <td>2</td>\n",
       "      <td>0.772</td>\n",
       "      <td>San Diego Fwy S</td>\n",
       "      <td>Culver City</td>\n",
       "      <td>Los Angeles</td>\n",
       "      <td>CA</td>\n",
       "      <td>US/Pacific</td>\n",
       "      <td>Fair</td>\n",
       "      <td>...</td>\n",
       "      <td>False</td>\n",
       "      <td>False</td>\n",
       "      <td>False</td>\n",
       "      <td>False</td>\n",
       "      <td>False</td>\n",
       "      <td>False</td>\n",
       "      <td>Day</td>\n",
       "      <td>2019</td>\n",
       "      <td>8</td>\n",
       "      <td>23</td>\n",
       "    </tr>\n",
       "    <tr>\n",
       "      <th>3554548</th>\n",
       "      <td>A-7777761</td>\n",
       "      <td>Source1</td>\n",
       "      <td>2</td>\n",
       "      <td>0.537</td>\n",
       "      <td>CA-210 W</td>\n",
       "      <td>Highland</td>\n",
       "      <td>San Bernardino</td>\n",
       "      <td>CA</td>\n",
       "      <td>US/Pacific</td>\n",
       "      <td>Fair</td>\n",
       "      <td>...</td>\n",
       "      <td>False</td>\n",
       "      <td>False</td>\n",
       "      <td>False</td>\n",
       "      <td>False</td>\n",
       "      <td>False</td>\n",
       "      <td>False</td>\n",
       "      <td>Day</td>\n",
       "      <td>2019</td>\n",
       "      <td>8</td>\n",
       "      <td>23</td>\n",
       "    </tr>\n",
       "  </tbody>\n",
       "</table>\n",
       "<p>3554549 rows × 27 columns</p>\n",
       "</div>"
      ],
      "text/plain": [
       "                ID   Source  Severity  Distance(mi)            Street  \\\n",
       "0        A-3412645  Source1         3         3.230       Outerbelt E   \n",
       "1        A-3412650  Source1         3         0.500            I-75 S   \n",
       "2        A-3412654  Source1         2         0.521            I-71 S   \n",
       "3        A-3412656  Source1         2         0.826       Outerbelt W   \n",
       "4        A-3412657  Source1         2         0.307            I-75 N   \n",
       "...            ...      ...       ...           ...               ...   \n",
       "3554544  A-7777757  Source1         2         0.543      Pomona Fwy E   \n",
       "3554545  A-7777758  Source1         2         0.338             I-8 W   \n",
       "3554546  A-7777759  Source1         2         0.561  Garden Grove Fwy   \n",
       "3554547  A-7777760  Source1         2         0.772   San Diego Fwy S   \n",
       "3554548  A-7777761  Source1         2         0.537          CA-210 W   \n",
       "\n",
       "                City          County State    Timezone Weather_Condition  ...  \\\n",
       "0             Dublin        Franklin    OH  US/Eastern        Light Rain  ...   \n",
       "1         Cincinnati        Hamilton    OH  US/Eastern        Light Rain  ...   \n",
       "2          Cleveland        Cuyahoga    OH  US/Eastern              Snow  ...   \n",
       "3        Westerville        Franklin    OH  US/Eastern              Snow  ...   \n",
       "4         Cincinnati        Hamilton    OH  US/Eastern        Light Snow  ...   \n",
       "...              ...             ...   ...         ...               ...  ...   \n",
       "3554544    Riverside       Riverside    CA  US/Pacific              Fair  ...   \n",
       "3554545    San Diego       San Diego    CA  US/Pacific              Fair  ...   \n",
       "3554546       Orange          Orange    CA  US/Pacific     Partly Cloudy  ...   \n",
       "3554547  Culver City     Los Angeles    CA  US/Pacific              Fair  ...   \n",
       "3554548     Highland  San Bernardino    CA  US/Pacific              Fair  ...   \n",
       "\n",
       "         Roundabout  Station   Stop  Traffic_Calming  Traffic_Signal  \\\n",
       "0             False    False  False            False           False   \n",
       "1             False    False  False            False           False   \n",
       "2             False    False  False            False           False   \n",
       "3             False    False  False            False           False   \n",
       "4             False    False  False            False           False   \n",
       "...             ...      ...    ...              ...             ...   \n",
       "3554544       False    False  False            False           False   \n",
       "3554545       False    False  False            False           False   \n",
       "3554546       False    False  False            False           False   \n",
       "3554547       False    False  False            False           False   \n",
       "3554548       False    False  False            False           False   \n",
       "\n",
       "         Turning_Loop  Sunrise_Sunset  Year  Month  Day  \n",
       "0               False           Night  2016      2    8  \n",
       "1               False             Day  2016      2    8  \n",
       "2               False             Day  2016      2    8  \n",
       "3               False             Day  2016      2    8  \n",
       "4               False             Day  2016      2    8  \n",
       "...               ...             ...   ...    ...  ...  \n",
       "3554544         False             Day  2019      8   23  \n",
       "3554545         False             Day  2019      8   23  \n",
       "3554546         False             Day  2019      8   23  \n",
       "3554547         False             Day  2019      8   23  \n",
       "3554548         False             Day  2019      8   23  \n",
       "\n",
       "[3554549 rows x 27 columns]"
      ]
     },
     "execution_count": 111,
     "metadata": {},
     "output_type": "execute_result"
    }
   ],
   "source": [
    "df"
   ]
  },
  {
   "cell_type": "code",
   "execution_count": 112,
   "id": "5a388992-00b7-415a-bf9f-5a868274a970",
   "metadata": {},
   "outputs": [
    {
     "data": {
      "text/plain": [
       "(3554549, 27)"
      ]
     },
     "execution_count": 112,
     "metadata": {},
     "output_type": "execute_result"
    }
   ],
   "source": [
    "df.shape"
   ]
  },
  {
   "cell_type": "markdown",
   "id": "1dc6b084-a5ca-4623-8616-8ba0b29152af",
   "metadata": {},
   "source": [
    "<b> Data Visualization <b>"
   ]
  },
  {
   "cell_type": "code",
   "execution_count": 114,
   "id": "11c0811a-322d-4da3-8275-4f58e4413f32",
   "metadata": {},
   "outputs": [
    {
     "data": {
      "text/plain": [
       "Index(['ID', 'Source', 'Severity', 'Distance(mi)', 'Street', 'City', 'County',\n",
       "       'State', 'Timezone', 'Weather_Condition', 'Amenity', 'Bump', 'Crossing',\n",
       "       'Give_Way', 'Junction', 'No_Exit', 'Railway', 'Roundabout', 'Station',\n",
       "       'Stop', 'Traffic_Calming', 'Traffic_Signal', 'Turning_Loop',\n",
       "       'Sunrise_Sunset', 'Year', 'Month', 'Day'],\n",
       "      dtype='object')"
      ]
     },
     "execution_count": 114,
     "metadata": {},
     "output_type": "execute_result"
    }
   ],
   "source": [
    "df.columns"
   ]
  },
  {
   "cell_type": "code",
   "execution_count": 115,
   "id": "ad253b1d-eabb-4706-b2bb-11aead3d9b09",
   "metadata": {},
   "outputs": [
    {
     "data": {
      "text/plain": [
       "array([False,  True])"
      ]
     },
     "execution_count": 115,
     "metadata": {},
     "output_type": "execute_result"
    }
   ],
   "source": [
    "df['Junction'].unique()"
   ]
  },
  {
   "cell_type": "code",
   "execution_count": 116,
   "id": "1ecabffa-0817-4191-9d37-828053f7d812",
   "metadata": {},
   "outputs": [
    {
     "data": {
      "image/png": "[encoded data removed]",
      "text/plain": [
       "<Figure size 640x480 with 1 Axes>"
      ]
     },
     "metadata": {},
     "output_type": "display_data"
    }
   ],
   "source": [
    "# 1. Histogram of Severity\n",
    "plt.hist(df['Severity'])\n",
    "plt.title('Distribution of Severity')\n",
    "plt.xlabel('Severity')\n",
    "plt.ylabel('Count')\n",
    "plt.show()"
   ]
  },
  {
   "cell_type": "code",
   "execution_count": 117,
   "id": "c3da3bcd-172e-476c-a7fe-ac7115e664b0",
   "metadata": {},
   "outputs": [
    {
     "data": {
      "image/png": "[encoded data removed]",
      "text/plain": [
       "<Figure size 1200x600 with 1 Axes>"
      ]
     },
     "metadata": {},
     "output_type": "display_data"
    }
   ],
   "source": [
    "# 2. Bar Chart of States\n",
    "plt.figure(figsize=(12, 6))\n",
    "sns.countplot(x='State', data=df)\n",
    "plt.title('Number of Accidents per State')\n",
    "plt.xticks(rotation=45)\n",
    "plt.show()"
   ]
  },
  {
   "cell_type": "code",
   "execution_count": 118,
   "id": "c0da2797-27fb-4918-a71d-bff4c8d3af2a",
   "metadata": {},
   "outputs": [
    {
     "data": {
      "image/png": "[encoded data removed]",
      "text/plain": [
       "<Figure size 1200x600 with 1 Axes>"
      ]
     },
     "metadata": {},
     "output_type": "display_data"
    }
   ],
   "source": [
    "# 3. Bar Chart of Year\n",
    "plt.figure(figsize=(12, 6))\n",
    "sns.countplot(x='Year', data=df)\n",
    "plt.title('Number of Accidents Year Wise')\n",
    "plt.xlabel('Year')\n",
    "plt.xticks(rotation=45)\n",
    "plt.show()"
   ]
  },
  {
   "cell_type": "code",
   "execution_count": 119,
   "id": "0c736b25-7548-44af-ac0c-f6be62d54661",
   "metadata": {},
   "outputs": [
    {
     "data": {
      "text/plain": [
       "Index(['ID', 'Source', 'Severity', 'Distance(mi)', 'Street', 'City', 'County',\n",
       "       'State', 'Timezone', 'Weather_Condition', 'Amenity', 'Bump', 'Crossing',\n",
       "       'Give_Way', 'Junction', 'No_Exit', 'Railway', 'Roundabout', 'Station',\n",
       "       'Stop', 'Traffic_Calming', 'Traffic_Signal', 'Turning_Loop',\n",
       "       'Sunrise_Sunset', 'Year', 'Month', 'Day'],\n",
       "      dtype='object')"
      ]
     },
     "execution_count": 119,
     "metadata": {},
     "output_type": "execute_result"
    }
   ],
   "source": [
    "df.columns"
   ]
  },
  {
   "cell_type": "code",
   "execution_count": 120,
   "id": "3711efb6-f4ad-422f-b0e9-875021dcb1eb",
   "metadata": {},
   "outputs": [
    {
     "data": {
      "image/png": "[encoded data removed]",
      "text/plain": [
       "<Figure size 1200x600 with 1 Axes>"
      ]
     },
     "metadata": {},
     "output_type": "display_data"
    }
   ],
   "source": [
    "# 4. Bar Chart of Junction\n",
    "plt.figure(figsize=(12, 6))\n",
    "sns.countplot(x='Junction', data=df)\n",
    "plt.title('Number of Accidents')\n",
    "plt.xticks(rotation=45)\n",
    "plt.show()"
   ]
  },
  {
   "cell_type": "code",
   "execution_count": 121,
   "id": "697397eb-e786-4dce-b981-feb4708e2fe6",
   "metadata": {},
   "outputs": [
    {
     "data": {
      "image/png": "[encoded data removed]",
      "text/plain": [
       "<Figure size 1200x600 with 1 Axes>"
      ]
     },
     "metadata": {},
     "output_type": "display_data"
    }
   ],
   "source": [
    "# 5. Bar Chart of Station\n",
    "plt.figure(figsize=(12, 6))\n",
    "sns.countplot(x='Station', data=df)\n",
    "plt.title('Number of Accidents')\n",
    "plt.xticks(rotation=45)\n",
    "plt.show()"
   ]
  },
  {
   "cell_type": "code",
   "execution_count": 122,
   "id": "4fa83b17-3d61-42be-8748-d247f100dda3",
   "metadata": {},
   "outputs": [
    {
     "data": {
      "image/png": "[encoded data removed]",
      "text/plain": [
       "<Figure size 1600x800 with 1 Axes>"
      ]
     },
     "metadata": {},
     "output_type": "display_data"
    }
   ],
   "source": [
    "road_features = ['Amenity', 'Bump', 'Crossing', 'Give_Way', 'Junction', 'No_Exit', 'Railway', 'Roundabout', 'Station', 'Stop', 'Traffic_Calming', 'Traffic_Signal', 'Turning_Loop']\n",
    "feature_impact = df[road_features].sum()\n",
    "plt.figure(figsize=(16, 8))\n",
    "feature_impact.plot(kind='bar')\n",
    "plt.title('Impact of Road Features on Accident Frequency (California)')\n",
    "plt.ylabel('Number of Accidents')\n",
    "plt.xticks(rotation=75)\n",
    "plt.tight_layout()\n",
    "plt.show()"
   ]
  },
  {
   "cell_type": "code",
   "execution_count": 136,
   "id": "948fde91-68a3-4bd9-90ea-82d4234ff728",
   "metadata": {},
   "outputs": [
    {
     "data": {
      "image/png": "[encoded data removed]",
      "text/plain": [
       "<Figure size 1200x800 with 1 Axes>"
      ]
     },
     "metadata": {},
     "output_type": "display_data"
    }
   ],
   "source": [
    "top_10_weather = df['Weather_Condition'].value_counts().nlargest(10)\n",
    "plt.figure(figsize=(12, 8))\n",
    "plt.barh(y=top_10_weather.index, width=top_10_weather.values)\n",
    "plt.title('Top 10 Weather Conditions in Accidents (California)')\n",
    "plt.xlabel('Number of Accidents')\n",
    "plt.ylabel('Weather Condition')\n",
    "plt.xticks(rotation=65, ha='right')\n",
    "plt.tight_layout()\n",
    "plt.show()"
   ]
  },
  {
   "cell_type": "code",
   "execution_count": null,
   "id": "cd494e63-2959-4bbc-9d35-fee07b531460",
   "metadata": {},
   "outputs": [],
   "source": []
  }
 ],
 "metadata": {
  "kernelspec": {
   "display_name": "Python 3 (ipykernel)",
   "language": "python",
   "name": "python3"
  },
  "language_info": {
   "codemirror_mode": {
    "name": "ipython",
    "version": 3
   },
   "file_extension": ".py",
   "mimetype": "text/x-python",
   "name": "python",
   "nbconvert_exporter": "python",
   "pygments_lexer": "ipython3",
   "version": "3.12.4"
  }
 },
 "nbformat": 4,
 "nbformat_minor": 5
}
